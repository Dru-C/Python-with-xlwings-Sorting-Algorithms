{
 "cells": [
  {
   "cell_type": "markdown",
   "metadata": {},
   "source": [
    "#### Import Libraries"
   ]
  },
  {
   "cell_type": "code",
   "execution_count": 1,
   "metadata": {},
   "outputs": [],
   "source": [
    "import xlwings as xw\n",
    "import matplotlib.pyplot as plt\n",
    "import numpy as np\n",
    "import random\n",
    "\n",
    "%matplotlib inline"
   ]
  },
  {
   "cell_type": "markdown",
   "metadata": {},
   "source": [
    "#### Create Connection to Excel Workbook and Sheet"
   ]
  },
  {
   "cell_type": "code",
   "execution_count": 2,
   "metadata": {},
   "outputs": [],
   "source": [
    "path = r\"C:\\Users\\tcregar\\Desktop\\Sorting Algorythems\\Sorting_Algos.xlsm\""
   ]
  },
  {
   "cell_type": "code",
   "execution_count": 3,
   "metadata": {},
   "outputs": [],
   "source": [
    "wb = xw.Book(path)"
   ]
  },
  {
   "cell_type": "code",
   "execution_count": 4,
   "metadata": {},
   "outputs": [],
   "source": [
    "sheet = wb.sheets[\"Insertion_Sort\"]"
   ]
  },
  {
   "cell_type": "code",
   "execution_count": null,
   "metadata": {},
   "outputs": [],
   "source": []
  },
  {
   "cell_type": "markdown",
   "metadata": {},
   "source": [
    "#### Define helper functions to get cell values and address information"
   ]
  },
  {
   "cell_type": "code",
   "execution_count": 5,
   "metadata": {},
   "outputs": [],
   "source": [
    "def value_address(n):\n",
    "    return f'C{n}'"
   ]
  },
  {
   "cell_type": "code",
   "execution_count": 6,
   "metadata": {},
   "outputs": [],
   "source": [
    "def prev_value_address(n):\n",
    "    x = int(n-1)\n",
    "    return f'C{x}'"
   ]
  },
  {
   "cell_type": "code",
   "execution_count": 7,
   "metadata": {},
   "outputs": [],
   "source": [
    "def sort_address(n):\n",
    "    return f'D{n}'"
   ]
  },
  {
   "cell_type": "code",
   "execution_count": 8,
   "metadata": {},
   "outputs": [],
   "source": [
    "def prev_sort_address(n):\n",
    "    x = int(n-1)\n",
    "    return f'D{x}'"
   ]
  },
  {
   "cell_type": "code",
   "execution_count": null,
   "metadata": {},
   "outputs": [],
   "source": []
  },
  {
   "cell_type": "code",
   "execution_count": 9,
   "metadata": {},
   "outputs": [],
   "source": [
    "def get_value(n):\n",
    "    if n >=1 and n <= 52:\n",
    "        return int(sheet.range(f'C{n}').value)\n",
    "    else:\n",
    "        return 3"
   ]
  },
  {
   "cell_type": "code",
   "execution_count": 10,
   "metadata": {},
   "outputs": [],
   "source": [
    "def get_prev_value(n):\n",
    "    x = n - 1\n",
    "    if n >=4 and n <= 52:\n",
    "        return int(sheet.range(f'C{x}').value)\n",
    "    else:\n",
    "        return int(sheet.range('C3').value)"
   ]
  },
  {
   "cell_type": "code",
   "execution_count": null,
   "metadata": {},
   "outputs": [],
   "source": []
  },
  {
   "cell_type": "markdown",
   "metadata": {},
   "source": [
    "#### Function to create random data and write to Excel"
   ]
  },
  {
   "cell_type": "code",
   "execution_count": 11,
   "metadata": {},
   "outputs": [],
   "source": [
    "def build_new():\n",
    "    data = list(range(1,51))\n",
    "    random.shuffle(data)\n",
    "    \n",
    "    sheet.range(\"value\").options(transpose = True).value = data"
   ]
  },
  {
   "cell_type": "markdown",
   "metadata": {},
   "source": [
    "#### Define function to run insertion sort on generated data"
   ]
  },
  {
   "cell_type": "code",
   "execution_count": 18,
   "metadata": {},
   "outputs": [],
   "source": [
    "def run_insertion_sort():    \n",
    "    \n",
    "    operations = 0\n",
    "    \n",
    "    for i in range(3,53):\n",
    "        \n",
    "        select_value = get_value(i)\n",
    "        compare_value = get_prev_value(i)\n",
    "        \n",
    "        value_addr = value_address(i)\n",
    "        sort_addr = sort_address(i)\n",
    "        \n",
    "        sheet.range(\"cur_element\").value = select_value\n",
    "               \n",
    "        if i <= 3:\n",
    "            sheet.range(value_addr).clear_contents()\n",
    "            sheet.range(sort_addr).value = select_value\n",
    "            sheet.range(sort_addr).clear_contents()\n",
    "            sheet.range(value_addr).value = select_value\n",
    "            \n",
    "            operations += 1\n",
    "            sheet.range(\"opp_cnt\").value = operations\n",
    "            sheet.range(\"cur_order\").value = i\n",
    "            \n",
    "        elif select_value >= compare_value:\n",
    "            sheet.range(value_addr).clear_contents()\n",
    "            sheet.range(sort_addr).value = select_value\n",
    "            sheet.range(sort_addr).clear_contents()\n",
    "            sheet.range(value_addr).value = select_value\n",
    "            \n",
    "            operations += 1\n",
    "            sheet.range(\"opp_cnt\").value = operations\n",
    "            sheet.range(\"cur_order\").value = i\n",
    "            \n",
    "        else:\n",
    "            \n",
    "            sheet.range(\"cur_order\").value = i\n",
    "            target = i\n",
    "            prev_value_addr = prev_value_address(i)\n",
    "            prev_sort_addr = prev_sort_address(i)\n",
    "            \n",
    "            while select_value < compare_value:\n",
    "                \n",
    "                sheet.range(value_addr).clear_contents()\n",
    "                sheet.range(sort_addr).value = select_value              \n",
    "                sheet.range(value_addr).value = compare_value                \n",
    "                sheet.range(prev_value_addr).clear_contents()     \n",
    "                sheet.range(sort_addr).clear_contents()             \n",
    "                sheet.range(prev_sort_addr).value = select_value          \n",
    "                sheet.range(prev_sort_addr).clear_contents()          \n",
    "                sheet.range(prev_value_addr).value = select_value \n",
    "\n",
    "                target = target - 1\n",
    "                \n",
    "                value_addr = value_address(target)\n",
    "                sort_addr = sort_address(target)\n",
    "                \n",
    "                prev_value_addr = prev_value_address(target)\n",
    "                prev_sort_addr = prev_sort_address(target)\n",
    "                \n",
    "                compare_value = get_prev_value(target)\n",
    "                \n",
    "                operations += 1\n",
    "                sheet.range(\"opp_cnt\").value = operations\n",
    "                sheet.range(\"cur_order\").value = target\n",
    "                \n",
    "\n",
    "            \n",
    "                            \n",
    "  "
   ]
  },
  {
   "cell_type": "code",
   "execution_count": 19,
   "metadata": {},
   "outputs": [],
   "source": [
    "build_new()"
   ]
  },
  {
   "cell_type": "code",
   "execution_count": 20,
   "metadata": {},
   "outputs": [],
   "source": [
    "run_insertion_sort()"
   ]
  },
  {
   "cell_type": "code",
   "execution_count": null,
   "metadata": {},
   "outputs": [],
   "source": []
  },
  {
   "cell_type": "code",
   "execution_count": null,
   "metadata": {},
   "outputs": [],
   "source": []
  },
  {
   "cell_type": "code",
   "execution_count": null,
   "metadata": {},
   "outputs": [],
   "source": []
  },
  {
   "cell_type": "code",
   "execution_count": null,
   "metadata": {},
   "outputs": [],
   "source": []
  },
  {
   "cell_type": "code",
   "execution_count": null,
   "metadata": {},
   "outputs": [],
   "source": []
  },
  {
   "cell_type": "code",
   "execution_count": null,
   "metadata": {},
   "outputs": [],
   "source": []
  },
  {
   "cell_type": "code",
   "execution_count": null,
   "metadata": {},
   "outputs": [],
   "source": []
  },
  {
   "cell_type": "code",
   "execution_count": null,
   "metadata": {},
   "outputs": [],
   "source": []
  }
 ],
 "metadata": {
  "kernelspec": {
   "display_name": "Python 3.7.4 64-bit",
   "language": "python",
   "name": "python37464bit95cadb803cb843e4b4870fdf0e8d125d"
  },
  "language_info": {
   "codemirror_mode": {
    "name": "ipython",
    "version": 3
   },
   "file_extension": ".py",
   "mimetype": "text/x-python",
   "name": "python",
   "nbconvert_exporter": "python",
   "pygments_lexer": "ipython3",
   "version": "3.7.4"
  }
 },
 "nbformat": 4,
 "nbformat_minor": 2
}
