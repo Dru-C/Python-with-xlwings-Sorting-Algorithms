{
 "cells": [
  {
   "cell_type": "markdown",
   "metadata": {},
   "source": [
    "#### Import Libraries"
   ]
  },
  {
   "cell_type": "code",
   "execution_count": 1,
   "metadata": {},
   "outputs": [],
   "source": [
    "import xlwings as xw\n",
    "import matplotlib.pyplot as plt\n",
    "import numpy as np\n",
    "import random\n",
    "\n",
    "%matplotlib inline"
   ]
  },
  {
   "cell_type": "markdown",
   "metadata": {},
   "source": [
    "#### Create Connection to Excel Workbook and Sheet"
   ]
  },
  {
   "cell_type": "code",
   "execution_count": 2,
   "metadata": {},
   "outputs": [],
   "source": [
    "path = r\"C:\\Users\\tcregar\\Desktop\\Sorting Algorythems\\Sorting_Algos.xlsm\""
   ]
  },
  {
   "cell_type": "code",
   "execution_count": 3,
   "metadata": {},
   "outputs": [],
   "source": [
    "wb = xw.Book(path)"
   ]
  },
  {
   "cell_type": "code",
   "execution_count": 4,
   "metadata": {},
   "outputs": [],
   "source": [
    "sheet = wb.sheets[\"Insertion_Sort\"]"
   ]
  },
  {
   "cell_type": "code",
   "execution_count": 5,
   "metadata": {},
   "outputs": [],
   "source": [
    "sheet2 = wb.sheets[\"Merge Sort\"]"
   ]
  },
  {
   "cell_type": "code",
   "execution_count": 6,
   "metadata": {},
   "outputs": [],
   "source": [
    "sheet3 = wb.sheets[\"Heap Sort\"]"
   ]
  },
  {
   "cell_type": "markdown",
   "metadata": {},
   "source": [
    "#### Define helper functions to get cell values and address information"
   ]
  },
  {
   "cell_type": "code",
   "execution_count": 6,
   "metadata": {},
   "outputs": [],
   "source": [
    "def value_address(n):\n",
    "    return f'C{n}'"
   ]
  },
  {
   "cell_type": "code",
   "execution_count": 7,
   "metadata": {},
   "outputs": [],
   "source": [
    "def prev_value_address(n):\n",
    "    x = int(n-1)\n",
    "    return f'C{x}'"
   ]
  },
  {
   "cell_type": "code",
   "execution_count": 8,
   "metadata": {},
   "outputs": [],
   "source": [
    "def sort_address(n):\n",
    "    return f'D{n}'"
   ]
  },
  {
   "cell_type": "code",
   "execution_count": 9,
   "metadata": {},
   "outputs": [],
   "source": [
    "def prev_sort_address(n):\n",
    "    x = int(n-1)\n",
    "    return f'D{x}'"
   ]
  },
  {
   "cell_type": "code",
   "execution_count": null,
   "metadata": {},
   "outputs": [],
   "source": []
  },
  {
   "cell_type": "code",
   "execution_count": 10,
   "metadata": {},
   "outputs": [],
   "source": [
    "def get_value(n):\n",
    "    if n >=1 and n <= 52:\n",
    "        return int(sheet.range(f'C{n}').value)\n",
    "    else:\n",
    "        return 3"
   ]
  },
  {
   "cell_type": "code",
   "execution_count": 11,
   "metadata": {},
   "outputs": [],
   "source": [
    "def get_prev_value(n):\n",
    "    x = n - 1\n",
    "    if n >=4 and n <= 52:\n",
    "        return int(sheet.range(f'C{x}').value)\n",
    "    else:\n",
    "        return int(sheet.range('C3').value)"
   ]
  },
  {
   "cell_type": "code",
   "execution_count": null,
   "metadata": {},
   "outputs": [],
   "source": []
  },
  {
   "cell_type": "markdown",
   "metadata": {},
   "source": [
    "#### Function to create random data and write to Excel"
   ]
  },
  {
   "cell_type": "code",
   "execution_count": 11,
   "metadata": {},
   "outputs": [],
   "source": [
    "def build_new():\n",
    "    data = list(range(1,51))\n",
    "    random.shuffle(data)\n",
    "    \n",
    "    sheet.range(\"value\").options(transpose = True).value = data"
   ]
  },
  {
   "cell_type": "markdown",
   "metadata": {},
   "source": [
    "#### Define function to run insertion sort on generated data"
   ]
  },
  {
   "cell_type": "code",
   "execution_count": 18,
   "metadata": {},
   "outputs": [],
   "source": [
    "def run_insertion_sort():    \n",
    "    \n",
    "    operations = 0\n",
    "    \n",
    "    for i in range(3,53):\n",
    "        \n",
    "        select_value = get_value(i)\n",
    "        compare_value = get_prev_value(i)\n",
    "        \n",
    "        value_addr = value_address(i)\n",
    "        sort_addr = sort_address(i)\n",
    "        \n",
    "        sheet.range(\"cur_element\").value = select_value\n",
    "               \n",
    "        if i <= 3:\n",
    "            sheet.range(value_addr).clear_contents()\n",
    "            sheet.range(sort_addr).value = select_value\n",
    "            sheet.range(sort_addr).clear_contents()\n",
    "            sheet.range(value_addr).value = select_value\n",
    "            \n",
    "            operations += 1\n",
    "            sheet.range(\"opp_cnt\").value = operations\n",
    "            sheet.range(\"cur_order\").value = i\n",
    "            \n",
    "        elif select_value >= compare_value:\n",
    "            sheet.range(value_addr).clear_contents()\n",
    "            sheet.range(sort_addr).value = select_value\n",
    "            sheet.range(sort_addr).clear_contents()\n",
    "            sheet.range(value_addr).value = select_value\n",
    "            \n",
    "            operations += 1\n",
    "            sheet.range(\"opp_cnt\").value = operations\n",
    "            sheet.range(\"cur_order\").value = i\n",
    "            \n",
    "        else:\n",
    "            \n",
    "            sheet.range(\"cur_order\").value = i\n",
    "            target = i\n",
    "            prev_value_addr = prev_value_address(i)\n",
    "            prev_sort_addr = prev_sort_address(i)\n",
    "            \n",
    "            while select_value < compare_value:\n",
    "                \n",
    "                sheet.range(value_addr).clear_contents()\n",
    "                sheet.range(sort_addr).value = select_value              \n",
    "                sheet.range(value_addr).value = compare_value                \n",
    "                sheet.range(prev_value_addr).clear_contents()     \n",
    "                sheet.range(sort_addr).clear_contents()             \n",
    "                sheet.range(prev_sort_addr).value = select_value          \n",
    "                sheet.range(prev_sort_addr).clear_contents()          \n",
    "                sheet.range(prev_value_addr).value = select_value \n",
    "\n",
    "                target = target - 1\n",
    "                \n",
    "                value_addr = value_address(target)\n",
    "                sort_addr = sort_address(target)\n",
    "                \n",
    "                prev_value_addr = prev_value_address(target)\n",
    "                prev_sort_addr = prev_sort_address(target)\n",
    "                \n",
    "                compare_value = get_prev_value(target)\n",
    "                \n",
    "                operations += 1\n",
    "                sheet.range(\"opp_cnt\").value = operations\n",
    "                sheet.range(\"cur_order\").value = target\n",
    "                \n",
    "\n",
    "            \n",
    "                            \n",
    "  "
   ]
  },
  {
   "cell_type": "code",
   "execution_count": 19,
   "metadata": {},
   "outputs": [],
   "source": [
    "build_new()"
   ]
  },
  {
   "cell_type": "code",
   "execution_count": 20,
   "metadata": {},
   "outputs": [],
   "source": [
    "run_insertion_sort()"
   ]
  },
  {
   "cell_type": "code",
   "execution_count": null,
   "metadata": {},
   "outputs": [],
   "source": []
  },
  {
   "cell_type": "markdown",
   "metadata": {},
   "source": [
    "### Merge Sort"
   ]
  },
  {
   "cell_type": "markdown",
   "metadata": {},
   "source": [
    "#### Helper functions"
   ]
  },
  {
   "cell_type": "code",
   "execution_count": 63,
   "metadata": {},
   "outputs": [],
   "source": [
    "def merge_sort_splits(data):  \n",
    "    sheet2.range(\"start\").value = data  \n",
    "    sheet2.range(\"end\").value = data \n",
    "    \n",
    "    sheet2.range(\"split1\").value = data[:13]  \n",
    "    sheet2.range(\"split2\").value = data[13:]    \n",
    "    sheet2.range(\"split3\").value = data[:6]  \n",
    "    sheet2.range(\"split4\").value = data[6:13]  \n",
    "    sheet2.range(\"split5\").value = data[13:19]   \n",
    "    sheet2.range(\"split6\").value = data[19:]   \n",
    "    \n",
    "    sheet2.range(\"split7\").value = data[:3]\n",
    "    sheet2.range(\"split8\").value = data[3:6]\n",
    "    sheet2.range(\"split9\").value = data[6:10]\n",
    "    sheet2.range(\"split10\").value = data[10:13]\n",
    "    sheet2.range(\"split11\").value = data[13:16]\n",
    "    sheet2.range(\"split12\").value = data[16:19]\n",
    "    sheet2.range(\"split13\").value = data[19:22]\n",
    "    sheet2.range(\"split14\").value = data[22:]\n",
    "    \n",
    "    sheet2.range(\"split15\").value = data[:2]\n",
    "    sheet2.range(\"split16\").value = data[2]\n",
    "    sheet2.range(\"split17\").value = data[3:5]\n",
    "    sheet2.range(\"split18\").value = data[5] \n",
    "    sheet2.range(\"split19\").value = data[6:8]\n",
    "    sheet2.range(\"split20\").value = data[8:10]\n",
    "    sheet2.range(\"split21\").value = data[10:12]\n",
    "    sheet2.range(\"split22\").value = data[12]\n",
    "    \n",
    "    sheet2.range(\"split23\").value = data[13:15]\n",
    "    sheet2.range(\"split24\").value = data[15]\n",
    "    sheet2.range(\"split25\").value = data[16:18]\n",
    "    sheet2.range(\"split26\").value = data[18]\n",
    "    sheet2.range(\"split27\").value = data[19:21]\n",
    "    sheet2.range(\"split28\").value = data[21]\n",
    "    sheet2.range(\"split29\").value = data[22:24]\n",
    "    sheet2.range(\"split30\").value = data[24]    \n",
    "    \n",
    "    \n",
    "    \n",
    "    sheet2.range(\"id_0\").value = data[0]\n",
    "    sheet2.range(\"id_1\").value = data[1]\n",
    "    sheet2.range(\"id_2\").value = data[2]\n",
    "    sheet2.range(\"id_3\").value = data[3]\n",
    "    sheet2.range(\"id_4\").value = data[4]\n",
    "    sheet2.range(\"id_5\").value = data[5]\n",
    "    sheet2.range(\"id_6\").value = data[6]\n",
    "    sheet2.range(\"id_7\").value = data[7]\n",
    "    sheet2.range(\"id_8\").value = data[8]\n",
    "    sheet2.range(\"id_9\").value = data[9]\n",
    "    sheet2.range(\"id_10\").value = data[10]\n",
    "    sheet2.range(\"id_11\").value = data[11]\n",
    "    sheet2.range(\"id_12\").value = data[12]\n",
    "    sheet2.range(\"id_13\").value = data[13]\n",
    "    sheet2.range(\"id_14\").value = data[14]\n",
    "    sheet2.range(\"id_15\").value = data[15]\n",
    "    sheet2.range(\"id_16\").value = data[16]\n",
    "    sheet2.range(\"id_17\").value = data[17]\n",
    "    sheet2.range(\"id_18\").value = data[18]\n",
    "    sheet2.range(\"id_19\").value = data[19]\n",
    "    sheet2.range(\"id_20\").value = data[20]\n",
    "    sheet2.range(\"id_21\").value = data[21]\n",
    "    sheet2.range(\"id_22\").value = data[22]\n",
    "    sheet2.range(\"id_23\").value = data[23]\n",
    "    sheet2.range(\"id_24\").value = data[24]\n",
    "    "
   ]
  },
  {
   "cell_type": "code",
   "execution_count": 64,
   "metadata": {},
   "outputs": [],
   "source": [
    "def merge_sort_M1():\n",
    "    \n",
    "    s1_a = sheet2.range(\"s1_a\").value\n",
    "    s1_a.sort()\n",
    "    sheet2.range(\"m1_a\").value = s1_a\n",
    "    sheet2.range(\"end\")[:2].value = s1_a\n",
    "    \n",
    "    s1_b = sheet2.range(\"split16\").value\n",
    "    sheet2.range(\"m1_b\").value = s1_b\n",
    "\n",
    "    s1_c = sheet2.range(\"s1_c\").value\n",
    "    s1_c.sort()\n",
    "    sheet2.range(\"m1_c\").value = s1_c\n",
    "    sheet2.range(\"end\")[3:5].value = s1_c\n",
    "    \n",
    "    s1_d = sheet2.range(\"split18\").value\n",
    "    sheet2.range(\"m1_d\").value = s1_d\n",
    "    \n",
    "    s1_e = sheet2.range(\"s1_e\").value\n",
    "    s1_e.sort()\n",
    "    sheet2.range(\"m1_e\").value = s1_e\n",
    "    sheet2.range(\"end\")[6:8].value = s1_e\n",
    "    \n",
    "    s1_f = sheet2.range(\"s1_f\").value\n",
    "    s1_f.sort()\n",
    "    sheet2.range(\"m1_f\").value = s1_f\n",
    "    sheet2.range(\"end\")[8:10].value = s1_f\n",
    "    \n",
    "    s1_g = sheet2.range(\"s1_g\").value\n",
    "    s1_g.sort()\n",
    "    sheet2.range(\"m1_g\").value = s1_g\n",
    "    sheet2.range(\"end\")[10:12].value = s1_g\n",
    "    \n",
    "    s1_h = sheet2.range(\"split22\").value\n",
    "    sheet2.range(\"m1_h\").value = s1_h   \n",
    "    \n",
    "    s1_i = sheet2.range(\"s1_i\").value\n",
    "    s1_i.sort()\n",
    "    sheet2.range(\"m1_i\").value = s1_i\n",
    "    sheet2.range(\"end\")[13:15].value = s1_i\n",
    "    \n",
    "    s1_j = sheet2.range(\"split24\").value\n",
    "    sheet2.range(\"m1_j\").value = s1_j\n",
    "    \n",
    "    s1_k = sheet2.range(\"s1_k\").value\n",
    "    s1_k.sort()\n",
    "    sheet2.range(\"m1_k\").value = s1_k\n",
    "    sheet2.range(\"end\")[16:18].value = s1_k\n",
    "    \n",
    "    s1_l = sheet2.range(\"split26\").value\n",
    "    sheet2.range(\"m1_l\").value = s1_l\n",
    "    \n",
    "    s1_m = sheet2.range(\"s1_m\").value\n",
    "    s1_m.sort()\n",
    "    sheet2.range(\"m1_m\").value = s1_m\n",
    "    sheet2.range(\"end\")[19:21].value = s1_m\n",
    "    \n",
    "    s1_n = sheet2.range(\"split28\").value\n",
    "    sheet2.range(\"m1_n\").value = s1_n\n",
    "    \n",
    "    s1_o = sheet2.range(\"s1_o\").value\n",
    "    s1_o.sort()\n",
    "    sheet2.range(\"m1_o\").value = s1_o\n",
    "    sheet2.range(\"end\")[22:24].value = s1_o\n",
    "    \n",
    "    s1_p = sheet2.range(\"split30\").value\n",
    "    sheet2.range(\"m1_p\").value = s1_p\n",
    "    "
   ]
  },
  {
   "cell_type": "code",
   "execution_count": 65,
   "metadata": {},
   "outputs": [],
   "source": [
    "def merge_sort_M2():\n",
    "    \n",
    "    s2_a = sheet2.range(\"s2_a\").value\n",
    "    s2_a.sort()\n",
    "    sheet2.range(\"m2_a\").value = s2_a\n",
    "    sheet2.range(\"end\")[:3].value = s2_a\n",
    "    \n",
    "  \n",
    "    s2_b = sheet2.range(\"s2_b\").value\n",
    "    s2_b.sort()\n",
    "    sheet2.range(\"m2_b\").value = s2_b\n",
    "    sheet2.range(\"end\")[3:5].value = s2_b    \n",
    "    \n",
    "    \n",
    "    s2_c = sheet2.range(\"s2_c\").value\n",
    "    s2_c.sort()\n",
    "    sheet2.range(\"m2_c\").value = s2_c\n",
    "    sheet2.range(\"end\")[6:9].value = s2_c   \n",
    "    \n",
    "    \n",
    "    s2_d = sheet2.range(\"s2_d\").value\n",
    "    s2_d.sort()\n",
    "    sheet2.range(\"m2_d\").value = s2_d\n",
    "    sheet2.range(\"end\")[10:12].value = s2_d   \n",
    "    \n",
    "    \n",
    "    s2_e = sheet2.range(\"s2_e\").value\n",
    "    s2_e.sort()\n",
    "    sheet2.range(\"m2_e\").value = s2_e\n",
    "    sheet2.range(\"end\")[13:15].value = s2_e   \n",
    "    \n",
    "    \n",
    "    s2_f = sheet2.range(\"s2_f\").value\n",
    "    s2_f.sort()\n",
    "    sheet2.range(\"m2_f\").value = s2_f\n",
    "    sheet2.range(\"end\")[16:18].value = s2_f\n",
    "    \n",
    "    s2_g = sheet2.range(\"s2_g\").value\n",
    "    s2_g.sort()\n",
    "    sheet2.range(\"m2_g\").value = s2_g\n",
    "    sheet2.range(\"end\")[19:21].value = s2_g\n",
    "    \n",
    "    s2_h = sheet2.range(\"s2_h\").value\n",
    "    s2_h.sort()\n",
    "    sheet2.range(\"m2_h\").value = s2_h\n",
    "    sheet2.range(\"end\")[22:].value = s2_h\n",
    "    \n",
    "    "
   ]
  },
  {
   "cell_type": "code",
   "execution_count": 66,
   "metadata": {},
   "outputs": [],
   "source": [
    "def merge_sort_M3():\n",
    "    \n",
    "    s3_a = sheet2.range(\"s3_a\").value\n",
    "    s3_a.sort()\n",
    "    sheet2.range(\"m3_a\").value = s3_a\n",
    "    sheet2.range(\"end\")[:6].value = s3_a  \n",
    "    \n",
    "    s3_b = sheet2.range(\"s3_b\").value\n",
    "    s3_b.sort()\n",
    "    sheet2.range(\"m3_b\").value = s3_b\n",
    "    sheet2.range(\"end\")[6:13].value = s3_b  \n",
    "    \n",
    "    s3_c = sheet2.range(\"s3_c\").value\n",
    "    s3_c.sort()\n",
    "    sheet2.range(\"m3_c\").value = s3_c\n",
    "    sheet2.range(\"end\")[13:19].value = s3_c\n",
    "    \n",
    "    s3_d = sheet2.range(\"s3_d\").value\n",
    "    s3_d.sort()\n",
    "    sheet2.range(\"m3_d\").value = s3_d\n",
    "    sheet2.range(\"end\")[19:].value = s3_d\n",
    "    \n",
    "    "
   ]
  },
  {
   "cell_type": "code",
   "execution_count": 67,
   "metadata": {},
   "outputs": [],
   "source": [
    "def merge_sort_M4():\n",
    "    \n",
    "    s4_a = sheet2.range(\"s4_a\").value\n",
    "    s4_a.sort()\n",
    "    sheet2.range(\"m4_a\").value = s4_a\n",
    "    sheet2.range(\"end\")[:13].value = s4_a \n",
    "    \n",
    "    s4_b = sheet2.range(\"s4_b\").value\n",
    "    s4_b.sort()\n",
    "    sheet2.range(\"m4_b\").value = s4_b\n",
    "    sheet2.range(\"end\")[13:].value = s4_b\n",
    "    \n",
    "    final = sheet2.range(\"end\").value\n",
    "    final.sort()\n",
    "    sheet2.range(\"end\").value = final\n",
    "    "
   ]
  },
  {
   "cell_type": "code",
   "execution_count": null,
   "metadata": {},
   "outputs": [],
   "source": []
  },
  {
   "cell_type": "code",
   "execution_count": null,
   "metadata": {},
   "outputs": [],
   "source": []
  },
  {
   "cell_type": "code",
   "execution_count": 68,
   "metadata": {},
   "outputs": [],
   "source": [
    "def build_new_25():\n",
    "    data = list(range(1,26))\n",
    "    random.shuffle(data) \n",
    "    \n",
    "    return data"
   ]
  },
  {
   "cell_type": "code",
   "execution_count": 69,
   "metadata": {},
   "outputs": [
    {
     "name": "stdout",
     "output_type": "stream",
     "text": [
      "[11, 16, 22, 4, 15, 23, 5, 1, 17, 14, 25, 21, 3, 10, 18, 6, 24, 9, 20, 19, 7, 2, 12, 8, 13]\n"
     ]
    }
   ],
   "source": [
    "mege_sort_data = build_new_25()\n",
    "print(mege_sort_data)"
   ]
  },
  {
   "cell_type": "code",
   "execution_count": 70,
   "metadata": {},
   "outputs": [],
   "source": [
    "merge_sort_splits(mege_sort_data)\n",
    "merge_sort_M1()\n",
    "merge_sort_M2()\n",
    "merge_sort_M3()\n",
    "merge_sort_M4()"
   ]
  },
  {
   "cell_type": "code",
   "execution_count": null,
   "metadata": {},
   "outputs": [],
   "source": []
  },
  {
   "cell_type": "markdown",
   "metadata": {},
   "source": [
    "### HEAP SORT\n",
    "\n",
    "https://www.youtube.com/watch?v=76EfufTQ1Pk&t=3s\n",
    "\n",
    "Class(Value, Index, Workbook, Worksheet, Cell)"
   ]
  },
  {
   "cell_type": "code",
   "execution_count": null,
   "metadata": {},
   "outputs": [],
   "source": []
  },
  {
   "cell_type": "code",
   "execution_count": 7,
   "metadata": {},
   "outputs": [],
   "source": [
    "def max_heapify(array,split, i):\n",
    "    \n",
    "    left = 2 * i + 1\n",
    "    right = 2 * i + 2\n",
    "    \n",
    "    if left < split and array[left] > array[i]:\n",
    "        largest = left\n",
    "    else: \n",
    "        largest = i\n",
    "        \n",
    "    if right < split and array[right] > array[largest]:\n",
    "        largest = right\n",
    "        \n",
    "    if largest != i:\n",
    "        \n",
    "        sheet3.range(\"hs_av\").value = array[i]               ####\n",
    "        sheet3.range(\"hs_cfs\").value = array[largest]        ####\n",
    "        \n",
    "        i_cell = f'hs_{i}'                                   ####\n",
    "        largest_cell = f'hs_{largest}'                       ####\n",
    "        \n",
    "        sheet3.range(i_cell).value = array[largest]          ####\n",
    "        sheet3.range(largest_cell).value = array[i]          ####\n",
    "        \n",
    "        cnt = sheet3.range(\"hs_cnt\").value + 1               ####\n",
    "        sheet3.range(\"hs_cnt\").value = cnt                   ####\n",
    "                \n",
    "        array[i], array[largest] = array[largest], array[i]\n",
    "        max_heapify(array, split, largest)"
   ]
  },
  {
   "cell_type": "code",
   "execution_count": null,
   "metadata": {},
   "outputs": [],
   "source": []
  },
  {
   "cell_type": "code",
   "execution_count": 12,
   "metadata": {},
   "outputs": [],
   "source": [
    "def build_max_heap(array):\n",
    "    \n",
    "    split = len(array)\n",
    "    \n",
    "    sheet3.range(\"hs_cnt\").value = 0\n",
    "    \n",
    "    for i in range(split, -1, -1):\n",
    "        max_heapify(array, split, i)\n",
    "        \n",
    "    for i in range(split - 1, 0, -1):\n",
    "        \n",
    "        sheet3.range(\"hs_av\").value = array[0]         ####\n",
    "        sheet3.range(\"hs_cfs\").value = array[i]        ####\n",
    "\n",
    "        i_cell = f'hs_{i}'                             ####\n",
    "        sheet3.range(\"hs_0\").value = array[i]          ####\n",
    "        sheet3.range(i_cell).value = array[0]          ####     \n",
    "        \n",
    "        cnt = sheet3.range(\"hs_cnt\").value + 1         ####\n",
    "        sheet3.range(\"hs_cnt\").value = cnt             ####\n",
    "        \n",
    "        array[0], array[i] = array[i], array[0]\n",
    "        max_heapify(array, i, 0)    \n",
    "        \n",
    "    sheet3.range(\"hs_av\").value = array[0]\n",
    "    sheet3.range(\"hs_cfs\").value = array[i]\n",
    "        \n",
    "    #return array"
   ]
  },
  {
   "cell_type": "code",
   "execution_count": null,
   "metadata": {},
   "outputs": [],
   "source": []
  },
  {
   "cell_type": "code",
   "execution_count": 15,
   "metadata": {},
   "outputs": [],
   "source": [
    "def build_heap_data():\n",
    "    data = list(range(0,63))\n",
    "    random.shuffle(data) \n",
    "    \n",
    "    sheet3.range(\"hs_array\").value = data\n",
    "    \n",
    "    sheet3.range(\"hs_av\").value = data[0]        ####\n",
    "    sheet3.range(\"hs_cfs\").value = data[1]       ####\n",
    "    \n",
    "    \n",
    "    order = list(range(0,63))\n",
    "    y_pos = np.arange(len(data))\n",
    "    \n",
    "    fig = plt.figure(figsize=(20,5))\n",
    "    \n",
    "    plt.bar(y_pos, data, align='center', alpha=0.5)\n",
    "    plt.xticks(y_pos, order)\n",
    "    plt.xlim(-0.5,len(data)-.5)\n",
    "    plt.ylabel('Element')\n",
    "    plt.xlabel('Order')\n",
    "    plt.title('HEAP SORT')\n",
    "    \n",
    "    return data"
   ]
  },
  {
   "cell_type": "code",
   "execution_count": null,
   "metadata": {},
   "outputs": [],
   "source": []
  },
  {
   "cell_type": "code",
   "execution_count": 16,
   "metadata": {},
   "outputs": [
    {
     "data": {
      "image/png": "[encoded data removed]",
      "text/plain": [
       "<Figure size 1440x360 with 1 Axes>"
      ]
     },
     "metadata": {
      "needs_background": "light"
     },
     "output_type": "display_data"
    }
   ],
   "source": [
    "hs_data = build_heap_data()"
   ]
  },
  {
   "cell_type": "code",
   "execution_count": 17,
   "metadata": {},
   "outputs": [],
   "source": [
    "build_max_heap(hs_data)"
   ]
  },
  {
   "cell_type": "code",
   "execution_count": null,
   "metadata": {},
   "outputs": [],
   "source": []
  },
  {
   "cell_type": "code",
   "execution_count": null,
   "metadata": {},
   "outputs": [],
   "source": []
  },
  {
   "cell_type": "code",
   "execution_count": null,
   "metadata": {},
   "outputs": [],
   "source": []
  },
  {
   "cell_type": "code",
   "execution_count": 18,
   "metadata": {},
   "outputs": [],
   "source": [
    "def max_heapify2(array,split, i):\n",
    "    \n",
    "    left = 2 * i + 1\n",
    "    right = 2 * i + 2\n",
    "    \n",
    "    if left < split and array[left] > array[i]:\n",
    "        largest = left\n",
    "    else: \n",
    "        largest = i\n",
    "        \n",
    "    if right < split and array[right] > array[largest]:\n",
    "        largest = right\n",
    "        \n",
    "    if largest != i:             \n",
    "        array[i], array[largest] = array[largest], array[i]\n",
    "        max_heapify2(array, split, largest)"
   ]
  },
  {
   "cell_type": "code",
   "execution_count": 19,
   "metadata": {},
   "outputs": [],
   "source": [
    "def build_max_heap2(array):\n",
    "    \n",
    "    split = len(array)\n",
    "    \n",
    "    for i in range(split, -1, -1):\n",
    "        max_heapify2(array, split, i)\n",
    "        \n",
    "    for i in range(split - 1, 0, -1):    \n",
    "        array[0], array[i] = array[i], array[0]\n",
    "        max_heapify2(array, i, 0)  \n",
    "        \n",
    "    return array\n"
   ]
  },
  {
   "cell_type": "code",
   "execution_count": 23,
   "metadata": {},
   "outputs": [],
   "source": [
    "def build_heap_data2():\n",
    "    data = list(range(0,63))\n",
    "    random.shuffle(data) \n",
    "    \n",
    "    print(data)\n",
    "    print()\n",
    "    print(build_max_heap2(data))\n",
    "    \n",
    "    \n"
   ]
  },
  {
   "cell_type": "code",
   "execution_count": 24,
   "metadata": {},
   "outputs": [
    {
     "name": "stdout",
     "output_type": "stream",
     "text": [
      "[31, 8, 56, 54, 16, 32, 23, 15, 58, 53, 21, 59, 22, 40, 9, 10, 29, 55, 27, 43, 34, 60, 19, 14, 42, 28, 3, 45, 2, 39, 47, 1, 5, 48, 38, 13, 41, 6, 17, 26, 12, 7, 57, 62, 52, 24, 36, 4, 50, 30, 51, 49, 18, 44, 20, 35, 46, 33, 0, 11, 37, 25, 61]\n",
      "\n",
      "[0, 1, 2, 3, 4, 5, 6, 7, 8, 9, 10, 11, 12, 13, 14, 15, 16, 17, 18, 19, 20, 21, 22, 23, 24, 25, 26, 27, 28, 29, 30, 31, 32, 33, 34, 35, 36, 37, 38, 39, 40, 41, 42, 43, 44, 45, 46, 47, 48, 49, 50, 51, 52, 53, 54, 55, 56, 57, 58, 59, 60, 61, 62]\n"
     ]
    }
   ],
   "source": [
    "build_heap_data2()"
   ]
  },
  {
   "cell_type": "code",
   "execution_count": null,
   "metadata": {},
   "outputs": [],
   "source": []
  },
  {
   "cell_type": "code",
   "execution_count": null,
   "metadata": {},
   "outputs": [],
   "source": []
  },
  {
   "cell_type": "code",
   "execution_count": null,
   "metadata": {},
   "outputs": [],
   "source": []
  },
  {
   "cell_type": "code",
   "execution_count": null,
   "metadata": {},
   "outputs": [],
   "source": []
  },
  {
   "cell_type": "code",
   "execution_count": null,
   "metadata": {},
   "outputs": [],
   "source": []
  }
 ],
 "metadata": {
  "kernelspec": {
   "display_name": "Python 3.7.4 64-bit",
   "language": "python",
   "name": "python37464bit95cadb803cb843e4b4870fdf0e8d125d"
  },
  "language_info": {
   "codemirror_mode": {
    "name": "ipython",
    "version": 3
   },
   "file_extension": ".py",
   "mimetype": "text/x-python",
   "name": "python",
   "nbconvert_exporter": "python",
   "pygments_lexer": "ipython3",
   "version": "3.7.4"
  }
 },
 "nbformat": 4,
 "nbformat_minor": 2
}
