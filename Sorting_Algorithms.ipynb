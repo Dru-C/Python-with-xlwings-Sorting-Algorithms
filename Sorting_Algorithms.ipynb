{
 "cells": [
  {
   "cell_type": "code",
   "execution_count": 1,
   "metadata": {},
   "outputs": [],
   "source": [
    "import xlwings as xw\n",
    "import numpy as np\n",
    "import random"
   ]
  },
  {
   "cell_type": "code",
   "execution_count": 3,
   "metadata": {},
   "outputs": [],
   "source": [
    "path = r\"C:\\Users\\tcregar\\Desktop\\Sorting Algorythems\\SortingAlgorithms.xlsm\"\n",
    "wb = xw.Book(path)\n",
    "heap_sort = wb.sheets[\"Heap Sort\"]"
   ]
  },
  {
   "cell_type": "markdown",
   "metadata": {},
   "source": [
    "# HEAP SORT"
   ]
  },
  {
   "cell_type": "code",
   "execution_count": 4,
   "metadata": {},
   "outputs": [],
   "source": [
    "def swap(array, start, compare):\n",
    "    loc = f'hs_{start}'\n",
    "    cng = f'hs_{compare}'\n",
    "    array[start], array[compare] = array[compare], array[start]\n",
    "    heap_sort.range(loc).value, heap_sort.range(\n",
    "        cng).value = heap_sort.range(cng).value, heap_sort.range(loc).value\n",
    "    heap_sort.range(\"hs_root\").value = array[start]\n",
    "    heap_sort.range(\"hs_child\").value = array[compare]\n",
    "    \n",
    "\n",
    "def max_heapify(array, split, i):\n",
    "    left = 2 * i + 1\n",
    "    right = 2 * i + 2\n",
    "    if left < split and array[left] > array[i]:\n",
    "        largest = left\n",
    "    else:\n",
    "        largest = i\n",
    "    if right < split and array[right] > array[largest]:\n",
    "        largest = right\n",
    "    if largest != i:\n",
    "        swap(array, i, largest)\n",
    "        max_heapify(array, split, largest)"
   ]
  },
  {
   "cell_type": "code",
   "execution_count": 5,
   "metadata": {},
   "outputs": [],
   "source": [
    "def get_new_values():\n",
    "    data = list(range(0, 63))\n",
    "    random.shuffle(data)\n",
    "    heap_sort.range(\"hs_array\").value = data\n",
    "    heap_sort.range(\"hs_root\").value = data[30]\n",
    "    heap_sort.range(\"hs_child\").value = data[62]\n",
    "    heap_sort.range(\"hs_sorted\").value = len(data)-1\n",
    "    \n",
    "def build_max_heap():\n",
    "    array = heap_sort.range(\"hs_array\").value\n",
    "    split = len(array)\n",
    "\n",
    "    for i in range(split, -1, -1):\n",
    "        max_heapify(array, split, i)\n",
    "\n",
    "    heap_sort.range(\"hs_root\").value = array[0]\n",
    "    heap_sort.range(\"hs_child\").value = array[62]\n",
    "    \n",
    "def run_heap_sort():\n",
    "    array = heap_sort.range(\"hs_array\").value\n",
    "    split = len(array)\n",
    "\n",
    "    for i in range(split, -1, -1):\n",
    "        max_heapify(array, split, i)\n",
    "\n",
    "    for i in range(split - 1, 0, -1):\n",
    "        swap(array, 0, i)\n",
    "        max_heapify(array, i, 0)\n",
    "        heap_sort.range(\"hs_sorted\").value = array[i]\n",
    "    heap_sort.range(\"hs_sorted\").value = array[0]\n",
    "\n",
    "    heap_sort.range(\"hs_root\").value = array[0]\n",
    "    heap_sort.range(\"hs_child\").value = array[1]"
   ]
  },
  {
   "cell_type": "code",
   "execution_count": null,
   "metadata": {},
   "outputs": [],
   "source": []
  },
  {
   "cell_type": "code",
   "execution_count": 6,
   "metadata": {},
   "outputs": [],
   "source": [
    "get_new_values()"
   ]
  },
  {
   "cell_type": "code",
   "execution_count": 7,
   "metadata": {},
   "outputs": [],
   "source": [
    "build_max_heap()"
   ]
  },
  {
   "cell_type": "code",
   "execution_count": 8,
   "metadata": {},
   "outputs": [],
   "source": [
    "run_heap_sort()"
   ]
  },
  {
   "cell_type": "code",
   "execution_count": null,
   "metadata": {},
   "outputs": [],
   "source": []
  },
  {
   "cell_type": "code",
   "execution_count": null,
   "metadata": {},
   "outputs": [],
   "source": []
  },
  {
   "cell_type": "code",
   "execution_count": null,
   "metadata": {},
   "outputs": [],
   "source": []
  },
  {
   "cell_type": "code",
   "execution_count": null,
   "metadata": {},
   "outputs": [],
   "source": []
  },
  {
   "cell_type": "code",
   "execution_count": null,
   "metadata": {},
   "outputs": [],
   "source": []
  },
  {
   "cell_type": "code",
   "execution_count": null,
   "metadata": {},
   "outputs": [],
   "source": []
  },
  {
   "cell_type": "code",
   "execution_count": null,
   "metadata": {},
   "outputs": [],
   "source": []
  },
  {
   "cell_type": "code",
   "execution_count": null,
   "metadata": {},
   "outputs": [],
   "source": []
  },
  {
   "cell_type": "code",
   "execution_count": null,
   "metadata": {},
   "outputs": [],
   "source": []
  },
  {
   "cell_type": "code",
   "execution_count": null,
   "metadata": {},
   "outputs": [],
   "source": []
  }
 ],
 "metadata": {
  "kernelspec": {
   "display_name": "Python 3",
   "language": "python",
   "name": "python3"
  },
  "language_info": {
   "codemirror_mode": {
    "name": "ipython",
    "version": 3
   },
   "file_extension": ".py",
   "mimetype": "text/x-python",
   "name": "python",
   "nbconvert_exporter": "python",
   "pygments_lexer": "ipython3",
   "version": "3.7.4"
  }
 },
 "nbformat": 4,
 "nbformat_minor": 2
}
